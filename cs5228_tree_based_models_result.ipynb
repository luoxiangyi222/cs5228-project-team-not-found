{
 "cells": [
  {
   "cell_type": "markdown",
   "id": "888da79a",
   "metadata": {},
   "source": [
    "# CS5228 Team Not Found\n",
    "## Tree-based models on various dataset"
   ]
  },
  {
   "cell_type": "code",
   "execution_count": 1,
   "id": "7a64379a",
   "metadata": {},
   "outputs": [],
   "source": [
    "import numpy as np\n",
    "import pandas as pd\n",
    "from sklearn.preprocessing import MinMaxScaler, StandardScaler, OneHotEncoder\n",
    "import category_encoders as ce\n",
    "import seaborn as sns\n",
    "\n",
    "import matplotlib.pyplot as plt\n",
    "\n",
    "from sklearn.linear_model import LinearRegression\n",
    "from sklearn.tree import DecisionTreeRegressor\n",
    "from sklearn.ensemble import RandomForestRegressor\n",
    "from sklearn.ensemble import AdaBoostRegressor\n",
    "from sklearn.ensemble import GradientBoostingRegressor\n",
    "\n",
    "from sklearn.model_selection import cross_val_score\n",
    "from sklearn.model_selection import KFold\n",
    "from geopy.distance import geodesic\n",
    "import geopy\n",
    "\n",
    "from sklearn.model_selection import GridSearchCV\n",
    "from sklearn import tree"
   ]
  },
  {
   "cell_type": "code",
   "execution_count": 2,
   "id": "8f00f5da",
   "metadata": {
    "scrolled": true
   },
   "outputs": [
    {
     "data": {
      "text/plain": [
       "Index(['type', 'bedrooms', 'bathrooms', 'district', 'planning_area', 'lat',\n",
       "       'lng', 'freehold', 'since_built_year', 'no_of_units', 'area_size',\n",
       "       'since_listing_month', 'additional_rooms', 'price', 'model_0',\n",
       "       'model_1', 'model_2', 'model_3', 'region_0', 'region_1', 'region_2',\n",
       "       'region_3', 'region_4', 'betweenness_closest_mrt', 'closest_comercial',\n",
       "       'closest_hawker', 'closest_primary', 'closest_secondary',\n",
       "       'closest_mall'],\n",
       "      dtype='object')"
      ]
     },
     "execution_count": 2,
     "metadata": {},
     "output_type": "execute_result"
    }
   ],
   "source": [
    "# load pre-processed data\n",
    "train_df = pd.read_csv('./data/final-train.csv', index_col=0)\n",
    "test_df = pd.read_csv('./data/final-test.csv', index_col=0)\n",
    "train_df.columns"
   ]
  },
  {
   "cell_type": "markdown",
   "id": "96b68208",
   "metadata": {},
   "source": [
    "## Random Forest"
   ]
  },
  {
   "cell_type": "code",
   "execution_count": 3,
   "id": "d3281bf8",
   "metadata": {},
   "outputs": [
    {
     "data": {
      "text/plain": [
       "RandomForestRegressor(max_depth=50, max_features=None, min_samples_split=5)"
      ]
     },
     "execution_count": 3,
     "metadata": {},
     "output_type": "execute_result"
    }
   ],
   "source": [
    "best_param = {'bootstrap': True, 'max_depth': 50, 'max_features': None, 'min_samples_split': 5, 'n_estimators': 100}\n",
    "rfr = RandomForestRegressor()\n",
    "rfr.set_params(**best_param)"
   ]
  },
  {
   "cell_type": "markdown",
   "id": "737e75ac",
   "metadata": {},
   "source": [
    "### numeric only"
   ]
  },
  {
   "cell_type": "code",
   "execution_count": 4,
   "id": "164b0a04",
   "metadata": {},
   "outputs": [
    {
     "data": {
      "text/plain": [
       "Index(['bedrooms', 'bathrooms', 'lat', 'lng', 'since_built_year',\n",
       "       'no_of_units', 'area_size', 'since_listing_month'],\n",
       "      dtype='object')"
      ]
     },
     "execution_count": 4,
     "metadata": {},
     "output_type": "execute_result"
    }
   ],
   "source": [
    "train_df =  pd.read_csv('./data/train_numeric.csv', index_col = 0)\n",
    "X_train = train_df.drop(columns = ['price'])\n",
    "y_train = train_df['price']\n",
    "X_train.columns"
   ]
  },
  {
   "cell_type": "code",
   "execution_count": 5,
   "id": "e8a21838",
   "metadata": {},
   "outputs": [
    {
     "data": {
      "text/plain": [
       "9.557071526290075e-01"
      ]
     },
     "metadata": {},
     "output_type": "display_data"
    },
    {
     "data": {
      "text/plain": [
       "832075.2254396887"
      ]
     },
     "metadata": {},
     "output_type": "display_data"
    }
   ],
   "source": [
    "folds = KFold(n_splits = 5, shuffle = True, random_state = 100)\n",
    "tuned_r2 = np.mean(cross_val_score(rfr, X_train, y_train, scoring='r2', cv=folds))\n",
    "tuned_rmse =(-1) * np.mean(cross_val_score(rfr, X_train, y_train, scoring='neg_root_mean_squared_error', cv=folds))\n",
    "\n",
    "display(tuned_r2)\n",
    "display(tuned_rmse)"
   ]
  },
  {
   "cell_type": "markdown",
   "id": "44844423",
   "metadata": {},
   "source": [
    "### numerical + categorical (with encoding)"
   ]
  },
  {
   "cell_type": "code",
   "execution_count": 6,
   "id": "3008f2e4",
   "metadata": {},
   "outputs": [
    {
     "data": {
      "text/plain": [
       "Index(['model', 'bedrooms', 'bathrooms', 'district', 'region', 'planning_area',\n",
       "       'lat', 'lng', 'freehold', 'since_built_year', 'no_of_units',\n",
       "       'area_size', 'since_listing_month', 'additional_rooms'],\n",
       "      dtype='object')"
      ]
     },
     "execution_count": 6,
     "metadata": {},
     "output_type": "execute_result"
    }
   ],
   "source": [
    "train_df =  pd.read_csv('./data/train_numeric_bin_target.csv')\n",
    "X_train = train_df.drop(columns = ['price'])\n",
    "y_train = train_df['price']\n",
    "X_train.columns"
   ]
  },
  {
   "cell_type": "code",
   "execution_count": 7,
   "id": "0d9f63e5",
   "metadata": {},
   "outputs": [
    {
     "data": {
      "text/plain": [
       "0.9574610863940249"
      ]
     },
     "metadata": {},
     "output_type": "display_data"
    },
    {
     "data": {
      "text/plain": [
       "820206.4389728281"
      ]
     },
     "metadata": {},
     "output_type": "display_data"
    }
   ],
   "source": [
    "folds = KFold(n_splits = 5, shuffle = True, random_state = 100)\n",
    "tuned_r2 = np.mean(cross_val_score(rfr, X_train, y_train, scoring='r2', cv=folds))\n",
    "tuned_rmse =(-1) * np.mean(cross_val_score(rfr, X_train, y_train, scoring='neg_root_mean_squared_error', cv=folds))\n",
    "\n",
    "display(tuned_r2 )\n",
    "display(tuned_rmse)"
   ]
  },
  {
   "cell_type": "markdown",
   "id": "1e7b1070",
   "metadata": {},
   "source": [
    "### numerical + categorical (with encoding) + amenties (betweenness weighted)"
   ]
  },
  {
   "cell_type": "code",
   "execution_count": 8,
   "id": "f4bf6f93",
   "metadata": {},
   "outputs": [],
   "source": [
    "# load pre-processed data\n",
    "train_df = pd.read_csv('./data/final-train.csv', index_col=0)\n",
    "test_df = pd.read_csv('./data/final-test.csv', index_col=0)\n",
    "X_train = train_df.drop(columns = ['price'])\n",
    "y_train = train_df['price']"
   ]
  },
  {
   "cell_type": "code",
   "execution_count": 9,
   "id": "3033a5d2",
   "metadata": {},
   "outputs": [
    {
     "data": {
      "text/plain": [
       "0.966070853641849"
      ]
     },
     "metadata": {},
     "output_type": "display_data"
    },
    {
     "data": {
      "text/plain": [
       "759536.8037606042"
      ]
     },
     "metadata": {},
     "output_type": "display_data"
    }
   ],
   "source": [
    "folds = KFold(n_splits = 5, shuffle = True, random_state = 100)\n",
    "tuned_r2 = np.mean(cross_val_score(rfr, X_train, y_train, scoring='r2', cv=folds))\n",
    "tuned_rmse =(-1) * np.mean(cross_val_score(rfr, X_train, y_train, scoring='neg_root_mean_squared_error', cv=folds))\n",
    "\n",
    "display(tuned_r2 )\n",
    "display(tuned_rmse)"
   ]
  },
  {
   "cell_type": "markdown",
   "id": "cfb8cedd",
   "metadata": {},
   "source": [
    "## Gradient Boosting"
   ]
  },
  {
   "cell_type": "code",
   "execution_count": 10,
   "id": "cb74255c",
   "metadata": {},
   "outputs": [
    {
     "data": {
      "text/plain": [
       "GradientBoostingRegressor(max_depth=10, min_samples_split=10, n_estimators=200,\n",
       "                          random_state=0, subsample=0.8)"
      ]
     },
     "execution_count": 10,
     "metadata": {},
     "output_type": "execute_result"
    }
   ],
   "source": [
    "best_param ={'learning_rate': 0.1,\n",
    " 'max_depth': 10,\n",
    " 'max_features': None,\n",
    " 'min_samples_split': 10,\n",
    " 'n_estimators': 200,\n",
    " 'subsample': 0.8}\n",
    "clf =  GradientBoostingRegressor(n_estimators=100, random_state=0)\n",
    "clf.set_params(**best_param)"
   ]
  },
  {
   "cell_type": "markdown",
   "id": "9df2368f",
   "metadata": {},
   "source": [
    "### numerical"
   ]
  },
  {
   "cell_type": "code",
   "execution_count": 11,
   "id": "ee0b6db5",
   "metadata": {},
   "outputs": [],
   "source": [
    "train_df =  pd.read_csv('./data/train_numeric.csv', index_col = 0)\n",
    "X_train = train_df.drop(columns = ['price'])\n",
    "y_train = train_df['price']"
   ]
  },
  {
   "cell_type": "code",
   "execution_count": 12,
   "id": "7e5eae46",
   "metadata": {
    "scrolled": true
   },
   "outputs": [
    {
     "data": {
      "text/plain": [
       "GradientBoostingRegressor(max_depth=10, min_samples_split=10, n_estimators=200,\n",
       "                          random_state=0, subsample=0.8)"
      ]
     },
     "execution_count": 12,
     "metadata": {},
     "output_type": "execute_result"
    }
   ],
   "source": [
    "folds = KFold(n_splits = 5, shuffle = True, random_state = 100)\n",
    "r2_scores = np.mean(cross_val_score(clf, X_train, y_train, scoring='r2', cv=folds))\n",
    "rmse = np.mean(cross_val_score(clf, X_train, y_train, scoring='neg_root_mean_squared_error', cv=folds))\n",
    "clf.fit(X_train, y_train)"
   ]
  },
  {
   "cell_type": "code",
   "execution_count": 13,
   "id": "648d6681",
   "metadata": {},
   "outputs": [
    {
     "data": {
      "text/plain": [
       "0.9583081492927272"
      ]
     },
     "metadata": {},
     "output_type": "display_data"
    },
    {
     "data": {
      "text/plain": [
       "-811672.340079638"
      ]
     },
     "metadata": {},
     "output_type": "display_data"
    }
   ],
   "source": [
    "display(r2_scores)\n",
    "display(rmse)"
   ]
  },
  {
   "cell_type": "markdown",
   "id": "b97dfe10",
   "metadata": {},
   "source": [
    "### numerical + categorical (with encoding)"
   ]
  },
  {
   "cell_type": "code",
   "execution_count": 14,
   "id": "96e5a2d2",
   "metadata": {},
   "outputs": [
    {
     "data": {
      "text/plain": [
       "0.9580959145664586"
      ]
     },
     "metadata": {},
     "output_type": "display_data"
    },
    {
     "data": {
      "text/plain": [
       "-810457.0338227935"
      ]
     },
     "metadata": {},
     "output_type": "display_data"
    }
   ],
   "source": [
    "train_df =  pd.read_csv('./data/train_numeric_bin_target.csv')\n",
    "X_train = train_df.drop(columns = ['price'])\n",
    "y_train = train_df['price']\n",
    "folds = KFold(n_splits = 5, shuffle = True, random_state = 100)\n",
    "r2_scores = np.mean(cross_val_score(clf, X_train, y_train, scoring='r2', cv=folds))\n",
    "rmse = np.mean(cross_val_score(clf, X_train, y_train, scoring='neg_root_mean_squared_error', cv=folds))\n",
    "clf.fit(X_train, y_train)\n",
    "display(r2_scores)\n",
    "display(rmse)"
   ]
  },
  {
   "cell_type": "markdown",
   "id": "07a8bb5e",
   "metadata": {},
   "source": [
    "### numerical + categorical (with encoding) + amenties (betweenness weighted)"
   ]
  },
  {
   "cell_type": "code",
   "execution_count": 15,
   "id": "88b4d333",
   "metadata": {},
   "outputs": [
    {
     "data": {
      "text/plain": [
       "0.9647611578135787"
      ]
     },
     "metadata": {},
     "output_type": "display_data"
    },
    {
     "data": {
      "text/plain": [
       "-753471.4184826509"
      ]
     },
     "metadata": {},
     "output_type": "display_data"
    }
   ],
   "source": [
    "# load pre-processed data\n",
    "train_df = pd.read_csv('./data/final-train.csv', index_col=0)\n",
    "X_train = train_df.drop(columns = ['price'])\n",
    "y_train = train_df['price']\n",
    "folds = KFold(n_splits = 5, shuffle = True, random_state = 100)\n",
    "r2_scores = np.mean(cross_val_score(clf, X_train, y_train, scoring='r2', cv=folds))\n",
    "rmse = np.mean(cross_val_score(clf, X_train, y_train, scoring='neg_root_mean_squared_error', cv=folds))\n",
    "clf.fit(X_train, y_train)\n",
    "display(r2_scores)\n",
    "display(rmse)"
   ]
  },
  {
   "cell_type": "code",
   "execution_count": null,
   "id": "6b83b68e",
   "metadata": {},
   "outputs": [],
   "source": []
  },
  {
   "cell_type": "code",
   "execution_count": null,
   "id": "4c8fc7f7",
   "metadata": {},
   "outputs": [],
   "source": []
  }
 ],
 "metadata": {
  "kernelspec": {
   "display_name": "CS5228",
   "language": "python",
   "name": "cs5228"
  },
  "language_info": {
   "codemirror_mode": {
    "name": "ipython",
    "version": 3
   },
   "file_extension": ".py",
   "mimetype": "text/x-python",
   "name": "python",
   "nbconvert_exporter": "python",
   "pygments_lexer": "ipython3",
   "version": "3.9.7"
  }
 },
 "nbformat": 4,
 "nbformat_minor": 5
}
